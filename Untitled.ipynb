{
 "cells": [
  {
   "cell_type": "code",
   "execution_count": 1,
   "id": "52dfbc91-a51e-42ca-9f48-f3dab5fa484a",
   "metadata": {},
   "outputs": [],
   "source": [
    "import streamlit as st\n",
    "from PIL import Image\n",
    "import cv2\n",
    "import numpy as np\n",
    "from ultralytics import YOLO\n",
    "# import shutil"
   ]
  },
  {
   "cell_type": "code",
   "execution_count": 2,
   "id": "f2df153c-c8b1-4ca7-a0a1-6661277eb37e",
   "metadata": {},
   "outputs": [
    {
     "name": "stderr",
     "output_type": "stream",
     "text": [
      "2024-04-09 14:46:30.158 WARNING streamlit.config: \n",
      "Warning: the config option 'server.enableCORS=false' is not compatible with 'server.enableXsrfProtection=true'.\n",
      "As a result, 'server.enableCORS' is being overridden to 'true'.\n",
      "\n",
      "More information:\n",
      "In order to protect against CSRF attacks, we send a cookie with each request.\n",
      "To do so, we must specify allowable origins, which places a restriction on\n",
      "cross-origin resource sharing.\n",
      "\n",
      "If cross origin resource sharing is required, please disable server.enableXsrfProtection.\n",
      "            \n",
      "2024-04-09 14:46:30.163 WARNING streamlit: \n",
      "  \u001b[33m\u001b[1mWarning:\u001b[0m to view this Streamlit app on a browser, run it with the following\n",
      "  command:\n",
      "\n",
      "    streamlit run C:\\Users\\Jenish\\anaconda3\\Lib\\site-packages\\ipykernel_launcher.py [ARGUMENTS]\n"
     ]
    }
   ],
   "source": [
    "st.sidebar.title(\"Dashboard\")\n",
    "app_mode = st.sidebar.selectbox(\"Select Page\",[\"Home\",\"About\",\"Disease Recognition\"])\n"
   ]
  },
  {
   "cell_type": "code",
   "execution_count": null,
   "id": "0fb21f57-9e3d-4c73-9d16-8b7264321025",
   "metadata": {},
   "outputs": [],
   "source": []
  }
 ],
 "metadata": {
  "kernelspec": {
   "display_name": "Python 3 (ipykernel)",
   "language": "python",
   "name": "python3"
  },
  "language_info": {
   "codemirror_mode": {
    "name": "ipython",
    "version": 3
   },
   "file_extension": ".py",
   "mimetype": "text/x-python",
   "name": "python",
   "nbconvert_exporter": "python",
   "pygments_lexer": "ipython3",
   "version": "3.11.7"
  }
 },
 "nbformat": 4,
 "nbformat_minor": 5
}
